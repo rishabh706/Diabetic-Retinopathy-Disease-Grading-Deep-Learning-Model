{
  "nbformat": 4,
  "nbformat_minor": 0,
  "metadata": {
    "colab": {
      "name": "IDRID.ipynb",
      "provenance": [],
      "collapsed_sections": [],
      "toc_visible": true,
      "machine_shape": "hm"
    },
    "kernelspec": {
      "name": "python3",
      "display_name": "Python 3"
    },
    "accelerator": "GPU"
  },
  "cells": [
    {
      "cell_type": "markdown",
      "metadata": {
        "id": "1ff0Bp2JgwCL",
        "colab_type": "text"
      },
      "source": [
        "# Importing the Dataset from Kaggle"
      ]
    },
    {
      "cell_type": "code",
      "metadata": {
        "id": "A5otSoxbgztl",
        "colab_type": "code",
        "colab": {}
      },
      "source": [
        "!pip install kaggle"
      ],
      "execution_count": 0,
      "outputs": []
    },
    {
      "cell_type": "code",
      "metadata": {
        "id": "uL6o83YFhP5B",
        "colab_type": "code",
        "colab": {}
      },
      "source": [
        "!mkdir .kaggle\n"
      ],
      "execution_count": 0,
      "outputs": []
    },
    {
      "cell_type": "code",
      "metadata": {
        "id": "uq5aFlSQhfV3",
        "colab_type": "code",
        "colab": {}
      },
      "source": [
        "import json\n",
        "token = {\"username\":\"ris320\",\"key\":\"c1b1a638fe03b2b2ef72d10209475644\"}\n",
        "with open('/content/.kaggle/kaggle.json', 'w') as file:\n",
        "    json.dump(token, file)"
      ],
      "execution_count": 0,
      "outputs": []
    },
    {
      "cell_type": "code",
      "metadata": {
        "id": "f4kmtX9bhnpu",
        "colab_type": "code",
        "colab": {}
      },
      "source": [
        "!cp /content/.kaggle/kaggle.json ~/.kaggle/kaggle.json"
      ],
      "execution_count": 0,
      "outputs": []
    },
    {
      "cell_type": "code",
      "metadata": {
        "id": "B0wGO8yFjuZL",
        "colab_type": "code",
        "colab": {}
      },
      "source": [
        "!kaggle config set -n path -v{/content}"
      ],
      "execution_count": 0,
      "outputs": []
    },
    {
      "cell_type": "code",
      "metadata": {
        "id": "Jx_75gv-k77n",
        "colab_type": "code",
        "colab": {}
      },
      "source": [
        "!chmod 600 /root/.kaggle/kaggle.json"
      ],
      "execution_count": 0,
      "outputs": []
    },
    {
      "cell_type": "code",
      "metadata": {
        "id": "WP-efzpjluvz",
        "colab_type": "code",
        "colab": {}
      },
      "source": [
        "!kaggle datasets download -d tanlikesmath/diabetic-retinopathy-resized -p /content"
      ],
      "execution_count": 0,
      "outputs": []
    },
    {
      "cell_type": "code",
      "metadata": {
        "id": "IdgMfzJol2bO",
        "colab_type": "code",
        "colab": {}
      },
      "source": [
        "!unzip diabetic-retinopathy-resized.zip"
      ],
      "execution_count": 0,
      "outputs": []
    },
    {
      "cell_type": "code",
      "metadata": {
        "id": "2oAck8SaSCxG",
        "colab_type": "code",
        "colab": {}
      },
      "source": [
        "!unzip resized_train_cropped.zip\n",
        "\n"
      ],
      "execution_count": 0,
      "outputs": []
    },
    {
      "cell_type": "markdown",
      "metadata": {
        "id": "hzcJac7nQyDv",
        "colab_type": "text"
      },
      "source": [
        "# Importing the libraries"
      ]
    },
    {
      "cell_type": "code",
      "metadata": {
        "id": "U1oZRbnMQ1D0",
        "colab_type": "code",
        "colab": {}
      },
      "source": [
        "import numpy as np\n",
        "import pandas as pd\n",
        "import matplotlib.pyplot as plt\n",
        "import cv2\n",
        "import random\n",
        "import os\n",
        "from google.colab.patches import cv2_imshow\n",
        "import glob\n",
        "import math\n",
        "from keras.preprocessing import image\n",
        "from keras.applications.vgg16 import VGG16\n",
        "from keras.applications.vgg16 import preprocess_input\n",
        "from keras.preprocessing.image import ImageDataGenerator\n",
        "from sklearn.model_selection import train_test_split\n",
        "# from keras.models import Sequential\n",
        "# from keras.layers.core import Flatten, Dense, Dropout\n",
        "# from keras.layers.convolutional import Convolution2D, MaxPooling2D, ZeroPadding2D\n",
        "# from keras.optimizers import SGD, Adam, Adamax,rmsprop\n",
        "# from keras.layers import Dense, GlobalAveragePooling2D\n",
        "#import tensorflow as tf\n",
        "#from tensorflow import keras\n",
        "from sklearn.metrics import accuracy_score\n",
        "from sklearn.ensemble import RandomForestClassifier\n",
        "from mlxtend.evaluate import confusion_matrix\n",
        "from mlxtend.plotting import plot_confusion_matrix\n",
        "#from sklearn.utils import class_weight\n",
        "#from sklearn.preprocessing import OneHotEncoder\n",
        "#from catboost import CatBoostClassifier\n",
        "#import xgboost as xgb\n",
        "from sklearn.model_selection import RandomizedSearchCV\n",
        "from sklearn.metrics import classification_report\n",
        "# from keras.models import Sequential\n",
        "# from keras.layers.core import Flatten, Dense, Dropout\n",
        "# from keras.layers.convolutional import Convolution2D, MaxPooling2D, ZeroPadding2D\n",
        "# from keras.optimizers import SGD, Adam, Adamax,rmsprop\n",
        "# from keras.layers import Dense, GlobalAveragePooling2D\n",
        "# from tensorflow.python.keras.utils.data_utils import Sequence\n",
        "from imblearn.over_sampling import SMOTE\n",
        "from imblearn.keras import balanced_batch_generator\n",
        "from imblearn.under_sampling import  RandomUnderSampler\n",
        "# import lightgbm as lgb\n",
        "from imblearn.ensemble import BalancedRandomForestClassifier\n",
        "from imblearn.over_sampling import  RandomOverSampler\n",
        "# import pickle"
      ],
      "execution_count": 0,
      "outputs": []
    },
    {
      "cell_type": "code",
      "metadata": {
        "id": "ozzd543o3tkk",
        "colab_type": "code",
        "colab": {}
      },
      "source": [
        " #!pip install catboost"
      ],
      "execution_count": 0,
      "outputs": []
    },
    {
      "cell_type": "markdown",
      "metadata": {
        "id": "ZojvWRCzRBAq",
        "colab_type": "text"
      },
      "source": [
        "# Importing the dataset"
      ]
    },
    {
      "cell_type": "code",
      "metadata": {
        "id": "mXrFlKQGRDwO",
        "colab_type": "code",
        "colab": {}
      },
      "source": [
        "dataset=pd.read_csv('trainLabels_cropped.csv')\n"
      ],
      "execution_count": 0,
      "outputs": []
    },
    {
      "cell_type": "markdown",
      "metadata": {
        "id": "AsazR1jtRZoO",
        "colab_type": "text"
      },
      "source": [
        "# Exploratory Data Analysis"
      ]
    },
    {
      "cell_type": "code",
      "metadata": {
        "id": "cgpEQCLCRcGZ",
        "colab_type": "code",
        "outputId": "cdcb1176-855a-4e18-8284-9df3d802f491",
        "colab": {
          "base_uri": "https://localhost:8080/",
          "height": 202
        }
      },
      "source": [
        "print(dataset.head(10))\n",
        "\n"
      ],
      "execution_count": 0,
      "outputs": [
        {
          "output_type": "stream",
          "text": [
            "   Unnamed: 0  Unnamed: 0.1     image  level\n",
            "0           0             0   10_left      0\n",
            "1           1             1  10_right      0\n",
            "2           2             2   13_left      0\n",
            "3           3             3  13_right      0\n",
            "4           4             4   15_left      1\n",
            "5           5             5  15_right      2\n",
            "6           6             6   16_left      4\n",
            "7           7             7  16_right      4\n",
            "8           8             8   17_left      0\n",
            "9           9             9  17_right      1\n"
          ],
          "name": "stdout"
        }
      ]
    },
    {
      "cell_type": "code",
      "metadata": {
        "id": "IxDCRlR6fcOI",
        "colab_type": "code",
        "colab": {}
      },
      "source": [
        "dataset.drop(columns={'Unnamed: 0','Unnamed: 0.1'},axis=1,inplace=True)\n"
      ],
      "execution_count": 0,
      "outputs": []
    },
    {
      "cell_type": "code",
      "metadata": {
        "id": "0VM2YzgxghDX",
        "colab_type": "code",
        "outputId": "55c0412e-52b1-46fa-f405-9e6ad3c74e05",
        "colab": {
          "base_uri": "https://localhost:8080/",
          "height": 202
        }
      },
      "source": [
        "print(dataset.head(10))"
      ],
      "execution_count": 0,
      "outputs": [
        {
          "output_type": "stream",
          "text": [
            "      image  level\n",
            "0   10_left      0\n",
            "1  10_right      0\n",
            "2   13_left      0\n",
            "3  13_right      0\n",
            "4   15_left      1\n",
            "5  15_right      2\n",
            "6   16_left      4\n",
            "7  16_right      4\n",
            "8   17_left      0\n",
            "9  17_right      1\n"
          ],
          "name": "stdout"
        }
      ]
    },
    {
      "cell_type": "code",
      "metadata": {
        "id": "wnO4L7HX5zYr",
        "colab_type": "code",
        "outputId": "ca1896b9-7b36-4892-f0b4-5d0c98058a67",
        "colab": {
          "base_uri": "https://localhost:8080/",
          "height": 67
        }
      },
      "source": [
        "print(dataset.isnull().sum()/len(dataset))"
      ],
      "execution_count": 0,
      "outputs": [
        {
          "output_type": "stream",
          "text": [
            "image    0.0\n",
            "level    0.0\n",
            "dtype: float64\n"
          ],
          "name": "stdout"
        }
      ]
    },
    {
      "cell_type": "code",
      "metadata": {
        "id": "f4QN13w9Rqsc",
        "colab_type": "code",
        "outputId": "04f11ea8-52b7-439a-993c-553c4735414c",
        "colab": {
          "base_uri": "https://localhost:8080/",
          "height": 67
        }
      },
      "source": [
        "print(dataset.dtypes)"
      ],
      "execution_count": 0,
      "outputs": [
        {
          "output_type": "stream",
          "text": [
            "image    object\n",
            "level     int64\n",
            "dtype: object\n"
          ],
          "name": "stdout"
        }
      ]
    },
    {
      "cell_type": "code",
      "metadata": {
        "id": "AIy1kW1yRtc8",
        "colab_type": "code",
        "outputId": "fecb8c02-91e1-4816-b04c-fba6552a91d7",
        "colab": {
          "base_uri": "https://localhost:8080/",
          "height": 34
        }
      },
      "source": [
        "print(len(dataset))"
      ],
      "execution_count": 0,
      "outputs": [
        {
          "output_type": "stream",
          "text": [
            "35108\n"
          ],
          "name": "stdout"
        }
      ]
    },
    {
      "cell_type": "code",
      "metadata": {
        "id": "DyI_GGeCRwQf",
        "colab_type": "code",
        "outputId": "ee708a44-a9df-4961-9a06-fbfbe8cc2912",
        "colab": {
          "base_uri": "https://localhost:8080/",
          "height": 293
        }
      },
      "source": [
        "dataset['level'].value_counts().plot(kind='bar')\n",
        "plt.xlabel('level')\n",
        "plt.ylabel('count')\n",
        "\n",
        "\n"
      ],
      "execution_count": 0,
      "outputs": [
        {
          "output_type": "execute_result",
          "data": {
            "text/plain": [
              "Text(0, 0.5, 'count')"
            ]
          },
          "metadata": {
            "tags": []
          },
          "execution_count": 24
        },
        {
          "output_type": "display_data",
          "data": {
            "image/png": "[encoded data removed]",
            "text/plain": [
              "<Figure size 432x288 with 1 Axes>"
            ]
          },
          "metadata": {
            "tags": []
          }
        }
      ]
    },
    {
      "cell_type": "code",
      "metadata": {
        "id": "HYVBwvoDTDlG",
        "colab_type": "code",
        "outputId": "4a139618-58ec-47fa-b666-e3fd757e940d",
        "colab": {
          "base_uri": "https://localhost:8080/",
          "height": 286
        }
      },
      "source": [
        "#Plotting the Image\n",
        "img=cv2.imread('resized_train_cropped/resized_train_cropped/1040_right.jpeg')\n",
        "img=cv2.resize(img,(200,200))\n",
        "image = cv2.cvtColor(img, cv2.COLOR_BGR2RGB)\n",
        "#cv2_imshow(img)\n",
        "plt.imshow(image)\n"
      ],
      "execution_count": 0,
      "outputs": [
        {
          "output_type": "execute_result",
          "data": {
            "text/plain": [
              "<matplotlib.image.AxesImage at 0x7f7b340efac8>"
            ]
          },
          "metadata": {
            "tags": []
          },
          "execution_count": 25
        },
        {
          "output_type": "display_data",
          "data": {
            "image/png": "[encoded data removed]",
            "text/plain": [
              "<Figure size 432x288 with 1 Axes>"
            ]
          },
          "metadata": {
            "tags": []
          }
        }
      ]
    },
    {
      "cell_type": "code",
      "metadata": {
        "id": "9W8NzpqVRRHE",
        "colab_type": "code",
        "colab": {}
      },
      "source": [
        ""
      ],
      "execution_count": 0,
      "outputs": []
    },
    {
      "cell_type": "code",
      "metadata": {
        "id": "yW1YY9G4NdXo",
        "colab_type": "code",
        "colab": {}
      },
      "source": [
        ""
      ],
      "execution_count": 0,
      "outputs": []
    },
    {
      "cell_type": "code",
      "metadata": {
        "id": "k2CBZhJ8END9",
        "colab_type": "code",
        "colab": {}
      },
      "source": [
        "# temp = []\n",
        "# for img_name in dataset.image+str('.jpeg'):\n",
        "#     img_path = os.path.join(os.getcwd(), 'resized_train_cropped', img_name)\n",
        "#     img = cv2.imread(img_path)\n",
        "#     img = cv2.resize(img, (112,112))\n",
        "#     img = img.astype('float32') # this will help us in later stage\n",
        "#     temp.append(img)\n",
        "    \n",
        "\n",
        "# train = np.stack(temp)"
      ],
      "execution_count": 0,
      "outputs": []
    },
    {
      "cell_type": "markdown",
      "metadata": {
        "id": "f8XgOvw3it1Q",
        "colab_type": "text"
      },
      "source": [
        "# Feature Extraction using Pretrained VGG16"
      ]
    },
    {
      "cell_type": "code",
      "metadata": {
        "id": "H7Zv4IgCacXp",
        "colab_type": "code",
        "outputId": "b7e7ee6f-cfa8-4579-f9e3-4b653a12128a",
        "colab": {
          "base_uri": "https://localhost:8080/",
          "height": 790
        }
      },
      "source": [
        "\n",
        "model = VGG16(weights='imagenet', include_top=False)\n",
        "model.summary()\n",
        "vgg16_feature_list = []\n",
        "\n",
        "for img_name in dataset.image+str('.jpeg'):\n",
        "    img_path=os.path.join(os.getcwd(),'resized_train_cropped/resized_train_cropped',img_name)  \n",
        "    img = image.load_img(img_path, target_size=(200, 200))\n",
        "    img_data = image.img_to_array(img)\n",
        "    img_data = np.expand_dims(img_data, axis=0)\n",
        "    img_data = preprocess_input(img_data)\n",
        "\n",
        "    vgg16_feature = model.predict(img_data)\n",
        "    vgg16_feature_np = np.array(vgg16_feature)\n",
        "    vgg16_feature_list.append(vgg16_feature_np.flatten())\n",
        "\n",
        "train = np.array(vgg16_feature_list)\n",
        "\n",
        "\n"
      ],
      "execution_count": 0,
      "outputs": [
        {
          "output_type": "stream",
          "text": [
            "Model: \"vgg16\"\n",
            "_________________________________________________________________\n",
            "Layer (type)                 Output Shape              Param #   \n",
            "=================================================================\n",
            "input_2 (InputLayer)         (None, None, None, 3)     0         \n",
            "_________________________________________________________________\n",
            "block1_conv1 (Conv2D)        (None, None, None, 64)    1792      \n",
            "_________________________________________________________________\n",
            "block1_conv2 (Conv2D)        (None, None, None, 64)    36928     \n",
            "_________________________________________________________________\n",
            "block1_pool (MaxPooling2D)   (None, None, None, 64)    0         \n",
            "_________________________________________________________________\n",
            "block2_conv1 (Conv2D)        (None, None, None, 128)   73856     \n",
            "_________________________________________________________________\n",
            "block2_conv2 (Conv2D)        (None, None, None, 128)   147584    \n",
            "_________________________________________________________________\n",
            "block2_pool (MaxPooling2D)   (None, None, None, 128)   0         \n",
            "_________________________________________________________________\n",
            "block3_conv1 (Conv2D)        (None, None, None, 256)   295168    \n",
            "_________________________________________________________________\n",
            "block3_conv2 (Conv2D)        (None, None, None, 256)   590080    \n",
            "_________________________________________________________________\n",
            "block3_conv3 (Conv2D)        (None, None, None, 256)   590080    \n",
            "_________________________________________________________________\n",
            "block3_pool (MaxPooling2D)   (None, None, None, 256)   0         \n",
            "_________________________________________________________________\n",
            "block4_conv1 (Conv2D)        (None, None, None, 512)   1180160   \n",
            "_________________________________________________________________\n",
            "block4_conv2 (Conv2D)        (None, None, None, 512)   2359808   \n",
            "_________________________________________________________________\n",
            "block4_conv3 (Conv2D)        (None, None, None, 512)   2359808   \n",
            "_________________________________________________________________\n",
            "block4_pool (MaxPooling2D)   (None, None, None, 512)   0         \n",
            "_________________________________________________________________\n",
            "block5_conv1 (Conv2D)        (None, None, None, 512)   2359808   \n",
            "_________________________________________________________________\n",
            "block5_conv2 (Conv2D)        (None, None, None, 512)   2359808   \n",
            "_________________________________________________________________\n",
            "block5_conv3 (Conv2D)        (None, None, None, 512)   2359808   \n",
            "_________________________________________________________________\n",
            "block5_pool (MaxPooling2D)   (None, None, None, 512)   0         \n",
            "=================================================================\n",
            "Total params: 14,714,688\n",
            "Trainable params: 14,714,688\n",
            "Non-trainable params: 0\n",
            "_________________________________________________________________\n"
          ],
          "name": "stdout"
        }
      ]
    },
    {
      "cell_type": "markdown",
      "metadata": {
        "id": "N0y7ddzzq_6f",
        "colab_type": "text"
      },
      "source": [
        ""
      ]
    },
    {
      "cell_type": "code",
      "metadata": {
        "id": "FoS_EnIveZ8n",
        "colab_type": "code",
        "outputId": "f596499f-dbd0-4bff-f7b8-dbba116445c9",
        "colab": {
          "base_uri": "https://localhost:8080/",
          "height": 34
        }
      },
      "source": [
        "print(len(train))\n",
        "\n"
      ],
      "execution_count": 0,
      "outputs": [
        {
          "output_type": "stream",
          "text": [
            "35108\n"
          ],
          "name": "stdout"
        }
      ]
    },
    {
      "cell_type": "code",
      "metadata": {
        "id": "FBMqZpRZsv4k",
        "colab_type": "code",
        "colab": {}
      },
      "source": [
        " #train=train.astype('float32')"
      ],
      "execution_count": 0,
      "outputs": []
    },
    {
      "cell_type": "code",
      "metadata": {
        "id": "b0H8JBMis0pG",
        "colab_type": "code",
        "colab": {}
      },
      "source": [
        "# Normalizing the Images\n",
        "\n",
        "#train=train/255."
      ],
      "execution_count": 0,
      "outputs": []
    },
    {
      "cell_type": "code",
      "metadata": {
        "id": "ujhl4zbZNs1R",
        "colab_type": "code",
        "colab": {}
      },
      "source": [
        ""
      ],
      "execution_count": 0,
      "outputs": []
    },
    {
      "cell_type": "code",
      "metadata": {
        "id": "DaR588cKEww5",
        "colab_type": "code",
        "colab": {}
      },
      "source": [
        "train_y=dataset.loc[:,'level']\n",
        "\n"
      ],
      "execution_count": 0,
      "outputs": []
    },
    {
      "cell_type": "code",
      "metadata": {
        "id": "QZ7UoSpZs_rg",
        "colab_type": "code",
        "outputId": "761d2fb7-48d9-4789-80cc-4d0e0139e4e3",
        "colab": {
          "base_uri": "https://localhost:8080/",
          "height": 218
        }
      },
      "source": [
        "train_y"
      ],
      "execution_count": 0,
      "outputs": [
        {
          "output_type": "execute_result",
          "data": {
            "text/plain": [
              "0        0\n",
              "1        0\n",
              "2        0\n",
              "3        0\n",
              "4        1\n",
              "        ..\n",
              "35103    0\n",
              "35104    0\n",
              "35105    0\n",
              "35106    0\n",
              "35107    1\n",
              "Name: level, Length: 35108, dtype: int64"
            ]
          },
          "metadata": {
            "tags": []
          },
          "execution_count": 31
        }
      ]
    },
    {
      "cell_type": "code",
      "metadata": {
        "id": "Zk2tLM3HtAr4",
        "colab_type": "code",
        "colab": {}
      },
      "source": [
        "train_y=train_y.astype('category')"
      ],
      "execution_count": 0,
      "outputs": []
    },
    {
      "cell_type": "code",
      "metadata": {
        "id": "83mrOOZVtFTa",
        "colab_type": "code",
        "outputId": "fb37c1af-7971-4be7-bff5-52eb543e1307",
        "colab": {
          "base_uri": "https://localhost:8080/",
          "height": 235
        }
      },
      "source": [
        "# print(train_y.head(10))\n",
        "\n",
        "print(train_y)"
      ],
      "execution_count": 0,
      "outputs": [
        {
          "output_type": "stream",
          "text": [
            "0        0\n",
            "1        0\n",
            "2        0\n",
            "3        0\n",
            "4        1\n",
            "        ..\n",
            "35103    0\n",
            "35104    0\n",
            "35105    0\n",
            "35106    0\n",
            "35107    1\n",
            "Name: level, Length: 35108, dtype: category\n",
            "Categories (5, int64): [0, 1, 2, 3, 4]\n"
          ],
          "name": "stdout"
        }
      ]
    },
    {
      "cell_type": "markdown",
      "metadata": {
        "id": "eilY67usqNj7",
        "colab_type": "text"
      },
      "source": [
        "# One Hot Encoding"
      ]
    },
    {
      "cell_type": "code",
      "metadata": {
        "id": "JbqbHn72qRWq",
        "colab_type": "code",
        "colab": {}
      },
      "source": [
        " train_y=pd.get_dummies(train_y)"
      ],
      "execution_count": 0,
      "outputs": []
    },
    {
      "cell_type": "code",
      "metadata": {
        "id": "6ySObz3mrdTT",
        "colab_type": "code",
        "outputId": "c31a936a-9ef7-4754-d247-5f4ff0d710dc",
        "colab": {
          "base_uri": "https://localhost:8080/",
          "height": 202
        }
      },
      "source": [
        " print(train_y.head(10))"
      ],
      "execution_count": 0,
      "outputs": [
        {
          "output_type": "stream",
          "text": [
            "level  0  1  2  3  4\n",
            "0      1  0  0  0  0\n",
            "1      1  0  0  0  0\n",
            "2      1  0  0  0  0\n",
            "3      1  0  0  0  0\n",
            "4      0  1  0  0  0\n",
            "5      0  0  1  0  0\n",
            "6      0  0  0  0  1\n",
            "7      0  0  0  0  1\n",
            "8      1  0  0  0  0\n",
            "9      0  1  0  0  0\n"
          ],
          "name": "stdout"
        }
      ]
    },
    {
      "cell_type": "code",
      "metadata": {
        "id": "zcbXQgYT1MJX",
        "colab_type": "code",
        "colab": {}
      },
      "source": [
        "\n"
      ],
      "execution_count": 0,
      "outputs": []
    },
    {
      "cell_type": "code",
      "metadata": {
        "id": "5PoLPCKiXaVb",
        "colab_type": "code",
        "colab": {}
      },
      "source": [
        "\n"
      ],
      "execution_count": 0,
      "outputs": []
    },
    {
      "cell_type": "code",
      "metadata": {
        "id": "sFc5tDC3J81S",
        "colab_type": "code",
        "outputId": "ecab03f4-3ece-42e4-cd8d-af5a9491e046",
        "colab": {
          "base_uri": "https://localhost:8080/",
          "height": 34
        }
      },
      "source": [
        "len(train)"
      ],
      "execution_count": 0,
      "outputs": [
        {
          "output_type": "execute_result",
          "data": {
            "text/plain": [
              "35108"
            ]
          },
          "metadata": {
            "tags": []
          },
          "execution_count": 36
        }
      ]
    },
    {
      "cell_type": "markdown",
      "metadata": {
        "id": "SsrgnR1-uDKp",
        "colab_type": "text"
      },
      "source": [
        "# Splitting into Train, Test and Validation"
      ]
    },
    {
      "cell_type": "code",
      "metadata": {
        "id": "FI1fi9FJuIpV",
        "colab_type": "code",
        "colab": {}
      },
      "source": [
        "\n",
        "train_x,test_x,train_y,test_y=train_test_split(train,train_y,test_size=0.30)\n"
      ],
      "execution_count": 0,
      "outputs": []
    },
    {
      "cell_type": "code",
      "metadata": {
        "id": "QhmMkQP2u8SC",
        "colab_type": "code",
        "colab": {}
      },
      "source": [
        "# print(len(train_x))\n",
        "\n",
        "# test_x,val_x,test_y,val_y=train_test_split(test_x,test_y,test_size=0.30)\n",
        "\n",
        "# !pip install imblearn"
      ],
      "execution_count": 0,
      "outputs": []
    },
    {
      "cell_type": "code",
      "metadata": {
        "id": "ybs1v_x0pJ7T",
        "colab_type": "code",
        "outputId": "fdee5ebc-ce48-429c-bf7b-8fa778d2198a",
        "colab": {
          "base_uri": "https://localhost:8080/",
          "height": 34
        }
      },
      "source": [
        "len(train_y)\n"
      ],
      "execution_count": 0,
      "outputs": [
        {
          "output_type": "execute_result",
          "data": {
            "text/plain": [
              "24575"
            ]
          },
          "metadata": {
            "tags": []
          },
          "execution_count": 38
        }
      ]
    },
    {
      "cell_type": "code",
      "metadata": {
        "id": "wCXo_laIJzTL",
        "colab_type": "code",
        "outputId": "321e34a3-9752-4ef0-a004-147773948362",
        "colab": {
          "base_uri": "https://localhost:8080/",
          "height": 34
        }
      },
      "source": [
        "train_x.shape"
      ],
      "execution_count": 0,
      "outputs": [
        {
          "output_type": "execute_result",
          "data": {
            "text/plain": [
              "(24575, 18432)"
            ]
          },
          "metadata": {
            "tags": []
          },
          "execution_count": 39
        }
      ]
    },
    {
      "cell_type": "code",
      "metadata": {
        "id": "KfSAfb5FtOs6",
        "colab_type": "code",
        "colab": {}
      },
      "source": [
        ""
      ],
      "execution_count": 0,
      "outputs": []
    },
    {
      "cell_type": "code",
      "metadata": {
        "id": "O2zuyw0Iu9PW",
        "colab_type": "code",
        "colab": {}
      },
      "source": [
        ""
      ],
      "execution_count": 0,
      "outputs": []
    },
    {
      "cell_type": "markdown",
      "metadata": {
        "id": "pgaCRGddIYZO",
        "colab_type": "text"
      },
      "source": [
        "# Training the Model"
      ]
    },
    {
      "cell_type": "code",
      "metadata": {
        "id": "I9dtbiwlId8d",
        "colab_type": "code",
        "colab": {}
      },
      "source": [
        "# model = tf.keras.Sequential()\n",
        "\n",
        "# model.add(tf.keras.layers.Conv2D(32, kernel_size=(3, 3), activation='relu', input_shape=(112,112,3)))\n",
        "# model.add(tf.keras.layers.Conv2D(64, kernel_size=(3, 3), activation='relu'))\n",
        "# model.add(tf.keras.layers.MaxPooling2D(pool_size=(2, 2)))\n",
        "# model.add(tf.keras.layers.Dropout(0.2))\n",
        " \n",
        "# model.add(tf.keras.layers.Conv2D(32, kernel_size=(3, 3), activation='relu'))\n",
        "# model.add(tf.keras.layers.MaxPooling2D(pool_size=(2, 2)))\n",
        "# # model.add(tf.keras.layers.GlobalAveragePooling2D())\n",
        "# model.add(tf.keras.layers.Conv2D(64, kernel_size=(3, 3), activation='relu'))\n",
        "# model.add(tf.keras.layers.MaxPooling2D(pool_size=(2, 2)))\n",
        "# # model.add(tf.keras.layers.GlobalAveragePooling2D())\n",
        "# model.add(tf.keras.layers.Dropout(0.2))\n",
        " \n",
        "# model.add(tf.keras.layers.Flatten())\n",
        "# model.add(tf.keras.layers.Dense(64, activation='relu'))\n",
        "# model.add(tf.keras.layers.Dense(64, activation='relu'))\n",
        "# model.add(tf.keras.layers.Dense(64, activation='relu'))\n",
        "\n",
        "# model.add(tf.keras.layers.Dense(64, activation='relu'))\n",
        "# model.add(tf.keras.layers.Dense(64, activation='relu'))\n",
        "# model.add(tf.keras.layers.Dense(64, activation='relu'))\n",
        "# model.add(tf.keras.layers.Dense(64, activation='relu'))\n",
        "\n",
        "# model.add(tf.keras.layers.Dropout(0.2))\n",
        "\n",
        "# model.add(tf.keras.layers.Dense(5, activation='softmax'))\n",
        "\n",
        "\n",
        "# model.compile(optimizer=tf.keras.optimizers.Adam(lr=0.01),\n",
        "#               loss='sparse_categorical_crossentropy',\n",
        "#               metrics=['accuracy'])"
      ],
      "execution_count": 0,
      "outputs": []
    },
    {
      "cell_type": "code",
      "metadata": {
        "id": "o_v_sNTDI09E",
        "colab_type": "code",
        "colab": {}
      },
      "source": [
        "# history=model.fit(train_x,train_y,\n",
        "#            batch_size=64,\n",
        "#            shuffle=False,\n",
        "#            epochs=10,\n",
        "#            validation_split=0.30)\n"
      ],
      "execution_count": 0,
      "outputs": []
    },
    {
      "cell_type": "code",
      "metadata": {
        "id": "teJp9COal7gy",
        "colab_type": "code",
        "outputId": "81f1b30b-66e3-4087-aa73-001eb9587a57",
        "colab": {
          "base_uri": "https://localhost:8080/",
          "height": 402
        }
      },
      "source": [
        "train_y"
      ],
      "execution_count": 0,
      "outputs": [
        {
          "output_type": "execute_result",
          "data": {
            "text/html": [
              "<div>\n",
              "<style scoped>\n",
              "    .dataframe tbody tr th:only-of-type {\n",
              "        vertical-align: middle;\n",
              "    }\n",
              "\n",
              "    .dataframe tbody tr th {\n",
              "        vertical-align: top;\n",
              "    }\n",
              "\n",
              "    .dataframe thead th {\n",
              "        text-align: right;\n",
              "    }\n",
              "</style>\n",
              "<table border=\"1\" class=\"dataframe\">\n",
              "  <thead>\n",
              "    <tr style=\"text-align: right;\">\n",
              "      <th>level</th>\n",
              "      <th>0</th>\n",
              "      <th>1</th>\n",
              "      <th>2</th>\n",
              "      <th>3</th>\n",
              "      <th>4</th>\n",
              "    </tr>\n",
              "  </thead>\n",
              "  <tbody>\n",
              "    <tr>\n",
              "      <th>4672</th>\n",
              "      <td>0</td>\n",
              "      <td>0</td>\n",
              "      <td>1</td>\n",
              "      <td>0</td>\n",
              "      <td>0</td>\n",
              "    </tr>\n",
              "    <tr>\n",
              "      <th>21846</th>\n",
              "      <td>0</td>\n",
              "      <td>0</td>\n",
              "      <td>1</td>\n",
              "      <td>0</td>\n",
              "      <td>0</td>\n",
              "    </tr>\n",
              "    <tr>\n",
              "      <th>26625</th>\n",
              "      <td>1</td>\n",
              "      <td>0</td>\n",
              "      <td>0</td>\n",
              "      <td>0</td>\n",
              "      <td>0</td>\n",
              "    </tr>\n",
              "    <tr>\n",
              "      <th>10304</th>\n",
              "      <td>1</td>\n",
              "      <td>0</td>\n",
              "      <td>0</td>\n",
              "      <td>0</td>\n",
              "      <td>0</td>\n",
              "    </tr>\n",
              "    <tr>\n",
              "      <th>17862</th>\n",
              "      <td>0</td>\n",
              "      <td>0</td>\n",
              "      <td>1</td>\n",
              "      <td>0</td>\n",
              "      <td>0</td>\n",
              "    </tr>\n",
              "    <tr>\n",
              "      <th>...</th>\n",
              "      <td>...</td>\n",
              "      <td>...</td>\n",
              "      <td>...</td>\n",
              "      <td>...</td>\n",
              "      <td>...</td>\n",
              "    </tr>\n",
              "    <tr>\n",
              "      <th>33236</th>\n",
              "      <td>1</td>\n",
              "      <td>0</td>\n",
              "      <td>0</td>\n",
              "      <td>0</td>\n",
              "      <td>0</td>\n",
              "    </tr>\n",
              "    <tr>\n",
              "      <th>24533</th>\n",
              "      <td>1</td>\n",
              "      <td>0</td>\n",
              "      <td>0</td>\n",
              "      <td>0</td>\n",
              "      <td>0</td>\n",
              "    </tr>\n",
              "    <tr>\n",
              "      <th>18815</th>\n",
              "      <td>1</td>\n",
              "      <td>0</td>\n",
              "      <td>0</td>\n",
              "      <td>0</td>\n",
              "      <td>0</td>\n",
              "    </tr>\n",
              "    <tr>\n",
              "      <th>26528</th>\n",
              "      <td>1</td>\n",
              "      <td>0</td>\n",
              "      <td>0</td>\n",
              "      <td>0</td>\n",
              "      <td>0</td>\n",
              "    </tr>\n",
              "    <tr>\n",
              "      <th>29870</th>\n",
              "      <td>1</td>\n",
              "      <td>0</td>\n",
              "      <td>0</td>\n",
              "      <td>0</td>\n",
              "      <td>0</td>\n",
              "    </tr>\n",
              "  </tbody>\n",
              "</table>\n",
              "<p>24575 rows × 5 columns</p>\n",
              "</div>"
            ],
            "text/plain": [
              "level  0  1  2  3  4\n",
              "4672   0  0  1  0  0\n",
              "21846  0  0  1  0  0\n",
              "26625  1  0  0  0  0\n",
              "10304  1  0  0  0  0\n",
              "17862  0  0  1  0  0\n",
              "...   .. .. .. .. ..\n",
              "33236  1  0  0  0  0\n",
              "24533  1  0  0  0  0\n",
              "18815  1  0  0  0  0\n",
              "26528  1  0  0  0  0\n",
              "29870  1  0  0  0  0\n",
              "\n",
              "[24575 rows x 5 columns]"
            ]
          },
          "metadata": {
            "tags": []
          },
          "execution_count": 40
        }
      ]
    },
    {
      "cell_type": "markdown",
      "metadata": {
        "id": "QWsaHybyLFJO",
        "colab_type": "text"
      },
      "source": [
        "# Training and Validation Accuracy"
      ]
    },
    {
      "cell_type": "code",
      "metadata": {
        "id": "EvOsPUbgLKVY",
        "colab_type": "code",
        "colab": {}
      },
      "source": [
        "# plt.plot(history.history['acc'])\n",
        "# plt.plot(history.history['val_acc'])\n",
        "# plt.title('model accuracy')\n",
        "# plt.ylabel('accuracy')\n",
        "# plt.xlabel('epoch')\n",
        "# plt.legend(['train', 'test'], loc='upper left')\n",
        "# plt.show()"
      ],
      "execution_count": 0,
      "outputs": []
    },
    {
      "cell_type": "markdown",
      "metadata": {
        "id": "S3_c-8AoLLfu",
        "colab_type": "text"
      },
      "source": [
        "# Training and Validation Loss"
      ]
    },
    {
      "cell_type": "code",
      "metadata": {
        "id": "wg7A_5JqLOPq",
        "colab_type": "code",
        "colab": {}
      },
      "source": [
        "# plt.plot(history.history['loss'])\n",
        "# plt.plot(history.history['val_loss'])\n",
        "# plt.title('model loss')\n",
        "# plt.ylabel('loss')\n",
        "# plt.xlabel('epoch')\n",
        "# plt.legend(['train', 'test'], loc='upper left')\n",
        "# plt.show()"
      ],
      "execution_count": 0,
      "outputs": []
    },
    {
      "cell_type": "markdown",
      "metadata": {
        "id": "sCDfWLTzoeLG",
        "colab_type": "text"
      },
      "source": [
        "# Handling Imbalanced Classes"
      ]
    },
    {
      "cell_type": "code",
      "metadata": {
        "id": "874mMYJevpB3",
        "colab_type": "code",
        "colab": {}
      },
      "source": [
        "#SMOTE\n",
        "\n",
        "# from imblearn.over_sampling import SMOTE\n",
        "\n",
        "# smote=SMOTE('minority')\n",
        "\n",
        "# train_x,train_y_1=smote.fit_sample(train_x,train_y)\n",
        "\n",
        "# print(train_x.shape,train_y.shape)\n",
        "\n",
        "\n",
        "# #  Random UnderSampling\n",
        "\n",
        "# rus=RandomUnderSampler('majority',random_state=42)\n",
        "\n",
        "# X_res,y_res=rus.fit_resample(train_x,train_y.iloc[:,0])\n",
        "\n",
        "\n",
        "#Random OverSampling\n",
        "\n",
        "ros=RandomOverSampler('minority',random_state=42)\n",
        "\n",
        "X_res,y_res= ros.fit_resample(train_x,train_y.iloc[:,1])\n"
      ],
      "execution_count": 0,
      "outputs": []
    },
    {
      "cell_type": "code",
      "metadata": {
        "id": "Akcgiey3azFv",
        "colab_type": "code",
        "outputId": "0de705af-ef8d-489b-8383-55c48f16e77f",
        "colab": {
          "base_uri": "https://localhost:8080/",
          "height": 293
        }
      },
      "source": [
        "y_res=pd.Series(y_res)\n",
        "y_res.value_counts().plot(kind='bar')\n",
        "plt.xlabel('level')\n",
        "plt.ylabel('count')"
      ],
      "execution_count": 0,
      "outputs": [
        {
          "output_type": "execute_result",
          "data": {
            "text/plain": [
              "Text(0, 0.5, 'count')"
            ]
          },
          "metadata": {
            "tags": []
          },
          "execution_count": 42
        },
        {
          "output_type": "display_data",
          "data": {
            "image/png": "[encoded data removed]",
            "text/plain": [
              "<Figure size 432x288 with 1 Axes>"
            ]
          },
          "metadata": {
            "tags": []
          }
        }
      ]
    },
    {
      "cell_type": "code",
      "metadata": {
        "id": "9X2hhtiFnmAu",
        "colab_type": "code",
        "colab": {}
      },
      "source": [
        "\n",
        "\n",
        "\n"
      ],
      "execution_count": 0,
      "outputs": []
    },
    {
      "cell_type": "code",
      "metadata": {
        "id": "1UzAaIuPcQVe",
        "colab_type": "code",
        "colab": {}
      },
      "source": [
        ""
      ],
      "execution_count": 0,
      "outputs": []
    },
    {
      "cell_type": "markdown",
      "metadata": {
        "id": "hbB37la223Go",
        "colab_type": "text"
      },
      "source": [
        "# Fitting Classifier to the Training Data"
      ]
    },
    {
      "cell_type": "code",
      "metadata": {
        "id": "GGBIp-IBzT1_",
        "colab_type": "code",
        "outputId": "4583dce7-e440-49db-e97f-ca92d5cd6691",
        "colab": {
          "base_uri": "https://localhost:8080/",
          "height": 134
        }
      },
      "source": [
        "# class_weights=dict({0:1.5,1:12,2:11,3:30,4:40})\n",
        "\n",
        "# Level 0-parameters n_estimators=300,max_depth=6\n",
        "\n",
        "\n",
        "classifier=RandomForestClassifier(n_estimators=300,max_depth=6)\n",
        "\n",
        "# classifier=BalancedRandomForestClassifier(n_estimators=200,max_depth=7)\n",
        "\n",
        "classifier.fit(X_res,y_res)\n",
        "\n",
        "\n",
        "\n",
        "# classifier=CatBoostClassifier(iterations=18,depth=6,task_type='GPU'\n",
        "#                               ,boosting_type='Plain',max_ctr_complexity=1,gpu_ram_part=0.7,\n",
        "#                               gpu_cat_features_storage='CpuPinnedMemory')\n",
        "\n",
        "# classifier = xgb.XGBClassifier(objective=\"binary:logistic\", random_state=42)\n",
        "\n",
        "\n",
        "# classifier.fit(X_res,y_res)\n",
        "\n",
        "\n",
        "\n",
        "# classifier.fit(train_x,train_y.iloc[:,0])"
      ],
      "execution_count": 0,
      "outputs": [
        {
          "output_type": "execute_result",
          "data": {
            "text/plain": [
              "RandomForestClassifier(bootstrap=True, class_weight=None, criterion='gini',\n",
              "                       max_depth=6, max_features='auto', max_leaf_nodes=None,\n",
              "                       min_impurity_decrease=0.0, min_impurity_split=None,\n",
              "                       min_samples_leaf=1, min_samples_split=2,\n",
              "                       min_weight_fraction_leaf=0.0, n_estimators=300,\n",
              "                       n_jobs=None, oob_score=False, random_state=None,\n",
              "                       verbose=0, warm_start=False)"
            ]
          },
          "metadata": {
            "tags": []
          },
          "execution_count": 43
        }
      ]
    },
    {
      "cell_type": "code",
      "metadata": {
        "id": "1OKr2v_TiSVW",
        "colab_type": "code",
        "outputId": "a3034789-a166-4601-b498-5d73d48f8e72",
        "colab": {
          "base_uri": "https://localhost:8080/",
          "height": 104
        }
      },
      "source": [
        "#Hyperparameter Tuning\n",
        "\n",
        "#Randomized Search CV\n",
        "\n",
        "param_list={'n_estimators':[100,200,300],\n",
        "             'max_depth':[1,2,3,4]}\n",
        "n_iter_search = 10\n",
        "\n",
        "random_search = RandomizedSearchCV(classifier, param_distributions=param_list,\n",
        "                                   n_iter=n_iter_search)\n",
        "\n",
        "random_search.fit(X_res,y_res)\n",
        "\n",
        "print(random_search.best_params_)"
      ],
      "execution_count": 0,
      "outputs": [
        {
          "output_type": "stream",
          "text": [
            "/usr/local/lib/python3.6/dist-packages/sklearn/model_selection/_split.py:1978: FutureWarning: The default value of cv will change from 3 to 5 in version 0.22. Specify it explicitly to silence this warning.\n",
            "  warnings.warn(CV_WARNING, FutureWarning)\n",
            "/usr/local/lib/python3.6/dist-packages/sklearn/model_selection/_split.py:1978: FutureWarning: The default value of cv will change from 3 to 5 in version 0.22. Specify it explicitly to silence this warning.\n",
            "  warnings.warn(CV_WARNING, FutureWarning)\n"
          ],
          "name": "stderr"
        }
      ]
    },
    {
      "cell_type": "code",
      "metadata": {
        "id": "FBPBBoeN2AxM",
        "colab_type": "code",
        "colab": {}
      },
      "source": [
        "# # Predicting the train set results\n",
        "y_pred_train=classifier.predict(X_res)\n",
        "\n",
        "# Predicting the Test set results\n",
        "y_pred_test=classifier.predict(test_x)\n"
      ],
      "execution_count": 0,
      "outputs": []
    },
    {
      "cell_type": "code",
      "metadata": {
        "id": "VoCZzhvvHj-5",
        "colab_type": "code",
        "colab": {}
      },
      "source": [
        ""
      ],
      "execution_count": 0,
      "outputs": []
    },
    {
      "cell_type": "code",
      "metadata": {
        "id": "fFLxfYMZSjk6",
        "colab_type": "code",
        "outputId": "2fbab2ed-1c3d-4cec-b5c9-fa5e3dea3c2e",
        "colab": {
          "base_uri": "https://localhost:8080/",
          "height": 50
        }
      },
      "source": [
        "#Checking the Accuracy\n",
        "\n",
        "print(\"Training Accuracy is:\",accuracy_score(y_pred_train,y_res))\n",
        "\n",
        "print(\"Testing Accuracy is:\",accuracy_score(y_pred_test,test_y.iloc[:,1]))\n"
      ],
      "execution_count": 0,
      "outputs": [
        {
          "output_type": "stream",
          "text": [
            "Training Accuracy is: 0.8082742937111869\n",
            "Testing Accuracy is: 0.6688502800721542\n"
          ],
          "name": "stdout"
        }
      ]
    },
    {
      "cell_type": "code",
      "metadata": {
        "id": "8bzRhVeUSlZ4",
        "colab_type": "code",
        "colab": {}
      },
      "source": [
        "# Confusion Matrix for training data\n",
        "\n",
        "cm=confusion_matrix(y_target=y_res,y_predicted=y_pred_train)\n"
      ],
      "execution_count": 0,
      "outputs": []
    },
    {
      "cell_type": "code",
      "metadata": {
        "id": "-MLEaVbgV34b",
        "colab_type": "code",
        "outputId": "07a58e9c-51b6-4bd6-e654-3d71539f4727",
        "colab": {
          "base_uri": "https://localhost:8080/",
          "height": 279
        }
      },
      "source": [
        "fig,ax=plot_confusion_matrix(conf_mat=cm,cmap='Dark2')\n",
        "\n",
        "plt.show()"
      ],
      "execution_count": 0,
      "outputs": [
        {
          "output_type": "display_data",
          "data": {
            "image/png": "[encoded data removed]",
            "text/plain": [
              "<Figure size 432x288 with 1 Axes>"
            ]
          },
          "metadata": {
            "tags": []
          }
        }
      ]
    },
    {
      "cell_type": "code",
      "metadata": {
        "id": "u54ANl7IWZaA",
        "colab_type": "code",
        "colab": {}
      },
      "source": [
        "# # Confusion Matrix for test data\n",
        "cm=confusion_matrix(y_target=test_y.iloc[:,0],y_predicted=y_pred_test)\n",
        "\n"
      ],
      "execution_count": 0,
      "outputs": []
    },
    {
      "cell_type": "code",
      "metadata": {
        "id": "Wy4O8_zlYXwE",
        "colab_type": "code",
        "outputId": "8be68f29-d256-45b1-dd56-602f3c120c7e",
        "colab": {
          "base_uri": "https://localhost:8080/",
          "height": 279
        }
      },
      "source": [
        "fig,ax=plot_confusion_matrix(conf_mat=cm,cmap='Dark2')\n",
        "plt.show()"
      ],
      "execution_count": 0,
      "outputs": [
        {
          "output_type": "display_data",
          "data": {
            "image/png": "[encoded data removed]",
            "text/plain": [
              "<Figure size 432x288 with 1 Axes>"
            ]
          },
          "metadata": {
            "tags": []
          }
        }
      ]
    },
    {
      "cell_type": "code",
      "metadata": {
        "id": "7dAAqW4rYZtV",
        "colab_type": "code",
        "outputId": "ba1ded2c-8491-4474-e53e-29928d5e6fdc",
        "colab": {
          "base_uri": "https://localhost:8080/",
          "height": 339
        }
      },
      "source": [
        "# Classification Report\n",
        "\n",
        "print(\"Training Classification Report\",classification_report(y_res,y_pred_train))\n",
        "\n",
        "\n",
        "print(\"Testing Classification Report\",classification_report(test_y.iloc[:,0],y_pred_test))\n",
        "\n"
      ],
      "execution_count": 0,
      "outputs": [
        {
          "output_type": "stream",
          "text": [
            "Training Classification Report               precision    recall  f1-score   support\n",
            "\n",
            "           0       0.75      0.60      0.67     17973\n",
            "           1       0.67      0.81      0.73     17973\n",
            "\n",
            "    accuracy                           0.70     35946\n",
            "   macro avg       0.71      0.70      0.70     35946\n",
            "weighted avg       0.71      0.70      0.70     35946\n",
            "\n",
            "Testing Classification Report               precision    recall  f1-score   support\n",
            "\n",
            "           0       0.41      0.47      0.44      2704\n",
            "           1       0.81      0.77      0.79      7829\n",
            "\n",
            "    accuracy                           0.69     10533\n",
            "   macro avg       0.61      0.62      0.61     10533\n",
            "weighted avg       0.71      0.69      0.70     10533\n",
            "\n"
          ],
          "name": "stdout"
        }
      ]
    },
    {
      "cell_type": "code",
      "metadata": {
        "id": "MCZEDB-Jgswj",
        "colab_type": "code",
        "colab": {}
      },
      "source": [
        ""
      ],
      "execution_count": 0,
      "outputs": []
    },
    {
      "cell_type": "code",
      "metadata": {
        "id": "4FoVOd5X1btf",
        "colab_type": "code",
        "colab": {}
      },
      "source": [
        ""
      ],
      "execution_count": 0,
      "outputs": []
    }
  ]
}